{
 "cells": [
  {
   "cell_type": "code",
   "execution_count": null,
   "metadata": {},
   "outputs": [],
   "source": [
    "import pandas as pd\n",
    "import numpy as np\n",
    "import tensorflow as tf\n",
    "from tensorflow import keras\n"
   ]
  },
  {
   "cell_type": "code",
   "execution_count": null,
   "metadata": {},
   "outputs": [],
   "source": [
    "# Vector where intercept is params[0] & params[1],params[2] are the slopes\n",
    "params = tf.tensor([0.1,0.05,0.02])"
   ]
  },
  {
   "cell_type": "code",
   "execution_count": null,
   "metadata": {},
   "outputs": [],
   "source": [
    "# define the multiple linear regression model \n",
    "\n",
    "def linear_regression(params, feature1 = x , feature2 = y):\n",
    "    return params[0] + feature1*params[1] + feature2*params[2]"
   ]
  },
  {
   "cell_type": "code",
   "execution_count": null,
   "metadata": {},
   "outputs": [],
   "source": [
    "# define the loss function\n",
    "\n",
    "def loss_func(params , targets = target, feature1 = x, feature2 = y):\n",
    "    \n",
    "    # Predicting values\n",
    "    predictions = linear_regression(params, feature1, feature2)\n",
    "    \n",
    "    # MAE for error\n",
    "    return keras.losses.mae(targets,predictions)"
   ]
  },
  {
   "cell_type": "code",
   "execution_count": null,
   "metadata": {},
   "outputs": [],
   "source": [
    "# define the optimiser\n",
    "\n",
    "opt = keras.optimizer.Adam()"
   ]
  },
  {
   "cell_type": "code",
   "execution_count": null,
   "metadata": {},
   "outputs": [],
   "source": [
    "# optimization using Adam and printing variables\n",
    "\n",
    "for i in range(10):\n",
    "    opt.minimize(loss_func(params),var_list=[params])\n",
    "    print_results(params)"
   ]
  }
 ],
 "metadata": {
  "kernelspec": {
   "display_name": "Python 3",
   "language": "python",
   "name": "python3"
  },
  "language_info": {
   "codemirror_mode": {
    "name": "ipython",
    "version": 3
   },
   "file_extension": ".py",
   "mimetype": "text/x-python",
   "name": "python",
   "nbconvert_exporter": "python",
   "pygments_lexer": "ipython3",
   "version": "3.7.6"
  }
 },
 "nbformat": 4,
 "nbformat_minor": 4
}
